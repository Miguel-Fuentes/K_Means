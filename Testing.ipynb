{
 "cells": [
  {
   "cell_type": "code",
   "execution_count": 33,
   "metadata": {},
   "outputs": [],
   "source": [
    "import numpy as np\n",
    "from skimage.io import imread\n",
    "from scipy.spatial.distance import cdist\n",
    "from PIL import Image\n",
    "import time\n",
    "from matplotlib.pyplot import imshow\n",
    "%matplotlib inline"
   ]
  },
  {
   "cell_type": "code",
   "execution_count": 82,
   "metadata": {},
   "outputs": [],
   "source": [
    "class K_means:\n",
    "    def __init__(self, k, dist='euclidean', dim=3):\n",
    "        self.K = k\n",
    "        self.centers = None\n",
    "        self.dist = dist\n",
    "        self.dim = None\n",
    "        \n",
    "    def train(self, data, iterations):\n",
    "        self.dim = data.shape[2]\n",
    "        total_points = data.shape[0] * data.shape[1]\n",
    "        data = np.reshape(data, (total_points, self.dim)) # This makes the data into a 2d matrix\n",
    "        self.centers = np.random.random(size=(self.K, self.dim)) * 255.0 # Randomly assign initial centers\n",
    "        \n",
    "        for _ in range(iterations):\n",
    "            distances = cdist(data, self.centers, metric=self.dist) # Compute all of the distances from point to center\n",
    "            nearest_center = np.argmin(distances, axis=1) # Get index of nearest center\n",
    "            \n",
    "            for i in range(self.K):\n",
    "                mask = nearest_center == i # Select all of the points in the cluster\n",
    "                if np.sum(mask) > 0:\n",
    "                    self.centers[i] = np.mean(data[mask], axis=0) # If the cluster is nonempty set the center to the average\n",
    "                else:\n",
    "                    self.centers[i] = np.random.random(size=(self.dim)) * 255.0 # If the cluster is empty reassign it randomly\n",
    "            #self.centers = np.clip(self.centers, 0, 255)\n",
    "                \n",
    "    def transform(self, data):\n",
    "        shape = data.shape\n",
    "        total_points = shape[0] * shape[1]\n",
    "        data = np.reshape(data, (total_points, self.dim))\n",
    "        transform = {i: self.centers[i] for i in range(self.centers.shape[0])}\n",
    "        \n",
    "        distances = cdist(data, self.centers, metric=self.dist)\n",
    "        nearest_center = list(np.argmin(distances, axis=1))\n",
    "        \n",
    "        new_data = [transform[center] for center in nearest_center]\n",
    "        return np.reshape(np.vstack(new_data), shape)"
   ]
  },
  {
   "cell_type": "code",
   "execution_count": 83,
   "metadata": {},
   "outputs": [],
   "source": [
    "def train_convert(path, k, iters):\n",
    "    im = imread(path)\n",
    "    im = im.astype('float')\n",
    "    \n",
    "    model = K_means(K)\n",
    "    model.train(im, iters)\n",
    "\n",
    "    transform = model.transform(im)\n",
    "    return model, Image.fromarray(transform.astype('uint8'))"
   ]
  },
  {
   "cell_type": "code",
   "execution_count": 90,
   "metadata": {},
   "outputs": [],
   "source": [
    "IM_PATH = 'Photos//Small//Green.png'\n",
    "K = 2\n",
    "ITERS = 500"
   ]
  },
  {
   "cell_type": "code",
   "execution_count": 91,
   "metadata": {},
   "outputs": [
    {
     "data": {
      "text/plain": [
       "<matplotlib.image.AxesImage at 0x172010cdb38>"
      ]
     },
     "execution_count": 91,
     "metadata": {},
     "output_type": "execute_result"
    },
    {
     "data": {
      "image/png": "[encoded data removed]",
      "text/plain": [
       "<Figure size 432x288 with 1 Axes>"
      ]
     },
     "metadata": {
      "needs_background": "light"
     },
     "output_type": "display_data"
    }
   ],
   "source": [
    "model, img = train_convert(IM_PATH, K, ITERS)\n",
    "imshow(img)"
   ]
  },
  {
   "cell_type": "code",
   "execution_count": null,
   "metadata": {},
   "outputs": [],
   "source": []
  }
 ],
 "metadata": {
  "kernelspec": {
   "display_name": "Python 3",
   "language": "python",
   "name": "python3"
  },
  "language_info": {
   "codemirror_mode": {
    "name": "ipython",
    "version": 3
   },
   "file_extension": ".py",
   "mimetype": "text/x-python",
   "name": "python",
   "nbconvert_exporter": "python",
   "pygments_lexer": "ipython3",
   "version": "3.6.8"
  }
 },
 "nbformat": 4,
 "nbformat_minor": 2
}
