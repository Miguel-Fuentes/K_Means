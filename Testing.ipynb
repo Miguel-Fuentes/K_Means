{
 "cells": [
  {
   "cell_type": "code",
   "execution_count": 7,
   "metadata": {},
   "outputs": [],
   "source": [
    "import numpy as np\n",
    "from skimage.io import imread\n",
    "from scipy.spatial.distance import cdist\n",
    "from PIL import Image\n",
    "import time"
   ]
  },
  {
   "cell_type": "code",
   "execution_count": 100,
   "metadata": {},
   "outputs": [],
   "source": [
    "IM_PATH = 'Photos//Full Size//Construction.png'\n",
    "K = 20"
   ]
  },
  {
   "cell_type": "code",
   "execution_count": 101,
   "metadata": {},
   "outputs": [],
   "source": [
    "im = imread(IM_PATH)"
   ]
  },
  {
   "cell_type": "code",
   "execution_count": 102,
   "metadata": {},
   "outputs": [],
   "source": [
    "class K_means:\n",
    "    def __init__(self, k, dist='euclidean', dim=3):\n",
    "        self.K = k\n",
    "        self.centers = None\n",
    "        self.dist = dist\n",
    "        self.dim = None\n",
    "        \n",
    "    def train(self, data, iterations):\n",
    "        self.dim = data.shape[2]\n",
    "        total_points = data.shape[0] * data.shape[1]\n",
    "        data = np.reshape(data, (total_points, self.dim))\n",
    "        self.centers = np.random.randint(0, 256, size=(self.K, self.dim))\n",
    "        \n",
    "        for _ in range(iterations):\n",
    "            distances = cdist(data, self.centers, metric=self.dist)\n",
    "            nearest_center = np.argmin(distances, axis=1) # -1 to get argmin instead of argmax\n",
    "            \n",
    "            for i in range(self.K):\n",
    "                mask = nearest_center == i\n",
    "                self.centers[i] = np.mean(data[mask], axis=0)\n",
    "            self.centers = np.clip(self.centers, 1, 255)\n",
    "                \n",
    "    def transform(self, data):\n",
    "        shape = data.shape\n",
    "        total_points = shape[0] * shape[1]\n",
    "        data = np.reshape(data, (total_points, self.dim))\n",
    "        transform = {i: data[i] for i in range(self.centers.shape[0])}\n",
    "        \n",
    "        distances = cdist(data, self.centers, metric=self.dist)\n",
    "        nearest_center = list(np.argmin(distances, axis=1))\n",
    "        \n",
    "        new_data = [transform[center] for center in nearest_center]\n",
    "        return np.reshape(np.vstack(new_data), shape)"
   ]
  },
  {
   "cell_type": "code",
   "execution_count": null,
   "metadata": {},
   "outputs": [],
   "source": [
    "model = K_means(K)\n",
    "init = time.time()\n",
    "model.train(im, 100)\n",
    "final = time.time()\n",
    "\n",
    "time_taken = final - init\n",
    "print(time_taken)"
   ]
  },
  {
   "cell_type": "code",
   "execution_count": null,
   "metadata": {},
   "outputs": [],
   "source": [
    "transform = model.transform(im)"
   ]
  },
  {
   "cell_type": "code",
   "execution_count": null,
   "metadata": {},
   "outputs": [],
   "source": [
    "img = Image.fromarray(transform, 'RGB')"
   ]
  },
  {
   "cell_type": "code",
   "execution_count": null,
   "metadata": {},
   "outputs": [],
   "source": [
    "img.save('test.png')"
   ]
  },
  {
   "cell_type": "code",
   "execution_count": null,
   "metadata": {},
   "outputs": [],
   "source": []
  }
 ],
 "metadata": {
  "kernelspec": {
   "display_name": "Python 3",
   "language": "python",
   "name": "python3"
  },
  "language_info": {
   "codemirror_mode": {
    "name": "ipython",
    "version": 3
   },
   "file_extension": ".py",
   "mimetype": "text/x-python",
   "name": "python",
   "nbconvert_exporter": "python",
   "pygments_lexer": "ipython3",
   "version": "3.6.8"
  }
 },
 "nbformat": 4,
 "nbformat_minor": 2
}
